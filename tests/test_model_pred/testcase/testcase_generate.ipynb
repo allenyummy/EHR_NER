{
 "metadata": {
  "language_info": {
   "codemirror_mode": {
    "name": "ipython",
    "version": 3
   },
   "file_extension": ".py",
   "mimetype": "text/x-python",
   "name": "python",
   "nbconvert_exporter": "python",
   "pygments_lexer": "ipython3",
   "version": "3.7.6-final"
  },
  "orig_nbformat": 2,
  "kernelspec": {
   "name": "python3",
   "display_name": "Python 3.7.6 64-bit ('anaconda3': virtualenv)",
   "metadata": {
    "interpreter": {
     "hash": "dca0ade3e726a953b501b15e8e990130d2b7799f14cfd9f4271676035ebe5511"
    }
   }
  }
 },
 "nbformat": 4,
 "nbformat_minor": 2,
 "cells": [
  {
   "cell_type": "code",
   "execution_count": 1,
   "metadata": {},
   "outputs": [],
   "source": [
    "import os\n",
    "import json\n",
    "from datetime import datetime\n",
    "\n",
    "data_path = os.path.join(\"..\", \"..\", \"..\", \"data\", \"final\", \"V3.0\", \"nestedner_dev.json\")\n",
    "\n",
    "with open(data_path, \"r\", encoding=\"utf-8\") as f:\n",
    "    in_data = json.load(f)\n",
    "\n",
    "version = \"V3.0_dev_10_testcase\"\n",
    "time = datetime.today().strftime(\"%Y/%m/%d_%H:%M:%S\")\n",
    "data = in_data[\"data\"]\n",
    "\n",
    "take_data_amount = 10"
   ]
  },
  {
   "cell_type": "code",
   "execution_count": 2,
   "metadata": {},
   "outputs": [],
   "source": [
    "def toSet(ans):\n",
    "    out = set()\n",
    "    for a in ans:\n",
    "        type = a[\"type\"]\n",
    "        text = a[\"text\"]\n",
    "        start_pos = a[\"start_pos\"]\n",
    "        end_pos = a[\"end_pos\"]\n",
    "        out.add((type, text, start_pos, end_pos))\n",
    "    return out\n",
    "\n",
    "flat_data = list()\n",
    "nested_data = list()\n",
    "\n",
    "for d in data:\n",
    "    pid = d[\"pid\"]\n",
    "    flat_ans = d[\"flat_ne_answers\"]\n",
    "    nested_ans = d[\"nested_ne_answers\"]\n",
    "\n",
    "    flat_ans_set = toSet(flat_ans)\n",
    "    nested_ans_set = toSet(nested_ans)\n",
    "    if flat_ans_set == nested_ans_set:\n",
    "        if len(flat_data) < take_data_amount:\n",
    "            flat_data.append(d)\n",
    "    else:\n",
    "        if len(nested_data) < take_data_amount:\n",
    "            nested_data.append(d)\n",
    "    \n",
    "    if len(flat_data) == take_data_amount and len(nested_data) == take_data_amount:\n",
    "        break\n",
    "\n",
    "out_flat_path = os.path.join(\"tests\", \"test_model_pred\", \"testcase\", \"flat_ner.json\")\n",
    "out_nested_path = os.path.join(\"tests\", \"test_model_pred\", \"testcase\", \"nested_ner.json\")\n",
    "\n",
    "out_flat = {\n",
    "    \"version\": version,\n",
    "    \"time\": time,\n",
    "    \"data\": flat_data\n",
    "}\n",
    "\n",
    "out_nested = {\n",
    "    \"version\": version,\n",
    "    \"time\": time,\n",
    "    \"data\": nested_data\n",
    "}\n",
    "\n",
    "with open(out_flat_path, \"w\", encoding=\"utf-8\") as fo:\n",
    "    out_data_json = json.dumps(out_flat, indent=4, ensure_ascii=False)\n",
    "    fo.write(out_data_json)\n",
    "\n",
    "with open(out_nested_path, \"w\", encoding=\"utf-8\") as fo:\n",
    "    out_data_json = json.dumps(out_nested, indent=4, ensure_ascii=False)\n",
    "    fo.write(out_data_json)"
   ]
  },
  {
   "cell_type": "code",
   "execution_count": null,
   "metadata": {},
   "outputs": [],
   "source": []
  }
 ]
}